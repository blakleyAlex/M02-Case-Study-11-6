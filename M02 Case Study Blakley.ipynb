{
 "cells": [
  {
   "cell_type": "code",
   "execution_count": 2,
   "id": "f5da0267",
   "metadata": {},
   "outputs": [
    {
     "name": "stdout",
     "output_type": "stream",
     "text": [
      "Enter student's last name: Thomas\n",
      "Enter student's first name: Kimya\n",
      "Enter student's GPA: 3.6\n",
      "Congrats to Kimya Thomas on making the Dean's List!\n"
     ]
    }
   ],
   "source": [
    "last_name = input(\"Enter student's last name: \")\n",
    "\n",
    "if last_name == \"ZZZ\":\n",
    "    quit()\n",
    "else:\n",
    "    first_name = input(\"Enter student's first name: \")\n",
    "    gpa = float(input(\"Enter student's GPA: \"))\n",
    "    if gpa >= 3.5:\n",
    "        print(f\"Congrats to {first_name} {last_name} on making the Dean's List!\")\n",
    "    elif gpa >= 3.25 and gpa < 3.5:\n",
    "        print(f\"Congrats to {first_name} {last_name} on making the Honor Roll!\")\n",
    "    else:\n",
    "        print(\"Learning is fun!\")"
   ]
  },
  {
   "cell_type": "code",
   "execution_count": 1,
   "id": "7447413f",
   "metadata": {},
   "outputs": [
    {
     "name": "stdout",
     "output_type": "stream",
     "text": [
      "Enter student's last name: Simmons\n",
      "Enter student's first name: Raphael\n",
      "Enter student's GPA: 2.25\n",
      "Learning is fun!\n"
     ]
    }
   ],
   "source": [
    "last_name = input(\"Enter student's last name: \")\n",
    "\n",
    "if last_name == \"ZZZ\":\n",
    "    quit()\n",
    "else:\n",
    "    first_name = input(\"Enter student's first name: \")\n",
    "    gpa = float(input(\"Enter student's GPA: \"))\n",
    "    if gpa >= 3.5:\n",
    "        print(f\"Congrats to {first_name} {last_name} on making the Dean's List!\")\n",
    "    elif gpa >= 3.25 and gpa < 3.5:\n",
    "        print(f\"Congrats to {first_name} {last_name} on making the Honor Roll!\")\n",
    "    else:\n",
    "        print(\"Learning is fun!\")"
   ]
  },
  {
   "cell_type": "code",
   "execution_count": 2,
   "id": "5e4405d4",
   "metadata": {},
   "outputs": [
    {
     "name": "stdout",
     "output_type": "stream",
     "text": [
      "Enter student's last name: Mario\n",
      "Enter student's first name: Carter\n",
      "Enter student's GPA: 3.43\n",
      "Congrats to Carter Mario on making the Honor Roll!\n"
     ]
    }
   ],
   "source": [
    "last_name = input(\"Enter student's last name: \")\n",
    "\n",
    "if last_name == \"ZZZ\":\n",
    "    quit()\n",
    "else:\n",
    "    first_name = input(\"Enter student's first name: \")\n",
    "    gpa = float(input(\"Enter student's GPA: \"))\n",
    "    if gpa >= 3.5:\n",
    "        print(f\"Congrats to {first_name} {last_name} on making the Dean's List!\")\n",
    "    elif gpa >= 3.25 and gpa < 3.5:\n",
    "        print(f\"Congrats to {first_name} {last_name} on making the Honor Roll!\")\n",
    "    else:\n",
    "        print(\"Learning is fun!\")"
   ]
  },
  {
   "cell_type": "code",
   "execution_count": 3,
   "id": "78f59ef1",
   "metadata": {},
   "outputs": [
    {
     "name": "stdout",
     "output_type": "stream",
     "text": [
      "Enter student's last name: Tentacles\n",
      "Enter student's first name: Squilliam\n",
      "Enter student's GPA: 3.99\n",
      "Congrats to Squilliam Tentacles on making the Dean's List!\n"
     ]
    }
   ],
   "source": [
    "last_name = input(\"Enter student's last name: \")\n",
    "\n",
    "if last_name == \"ZZZ\":\n",
    "    quit()\n",
    "else:\n",
    "    first_name = input(\"Enter student's first name: \")\n",
    "    gpa = float(input(\"Enter student's GPA: \"))\n",
    "    if gpa >= 3.5:\n",
    "        print(f\"Congrats to {first_name} {last_name} on making the Dean's List!\")\n",
    "    elif gpa >= 3.25 and gpa < 3.5:\n",
    "        print(f\"Congrats to {first_name} {last_name} on making the Honor Roll!\")\n",
    "    else:\n",
    "        print(\"Learning is fun!\")"
   ]
  },
  {
   "cell_type": "code",
   "execution_count": 4,
   "id": "65af2d66",
   "metadata": {},
   "outputs": [
    {
     "name": "stdout",
     "output_type": "stream",
     "text": [
      "Enter student's last name: Ferguson\n",
      "Enter student's first name: Carol\n",
      "Enter student's GPA: 3.24\n",
      "Learning is fun!\n"
     ]
    }
   ],
   "source": [
    "last_name = input(\"Enter student's last name: \")\n",
    "\n",
    "if last_name == \"ZZZ\":\n",
    "    quit()\n",
    "else:\n",
    "    first_name = input(\"Enter student's first name: \")\n",
    "    gpa = float(input(\"Enter student's GPA: \"))\n",
    "    if gpa >= 3.5:\n",
    "        print(f\"Congrats to {first_name} {last_name} on making the Dean's List!\")\n",
    "    elif gpa >= 3.25 and gpa < 3.5:\n",
    "        print(f\"Congrats to {first_name} {last_name} on making the Honor Roll!\")\n",
    "    else:\n",
    "        print(\"Learning is fun!\")"
   ]
  },
  {
   "cell_type": "code",
   "execution_count": null,
   "id": "0084dcf9",
   "metadata": {},
   "outputs": [],
   "source": [
    "last_name = input(\"Enter student's last name: \") # Alex Blakley\n",
    "                                                 # M02 Case Study Blakley\n",
    "                                                 # this app will prompt the user for entries and then respond with a customized message depending on the user's response\n",
    "if last_name == \"ZZZ\":\n",
    "    quit()\n",
    "else:\n",
    "    first_name = input(\"Enter student's first name: \")\n",
    "    gpa = float(input(\"Enter student's GPA: \"))\n",
    "    if gpa >= 3.5:\n",
    "        print(f\"Congrats to {first_name} {last_name} on making the Dean's List!\")\n",
    "    elif gpa >= 3.25 and gpa < 3.5:\n",
    "        print(f\"Congrats to {first_name} {last_name} on making the Honor Roll!\")\n",
    "    else:\n",
    "        print(\"Learning is fun!\")"
   ]
  }
 ],
 "metadata": {
  "kernelspec": {
   "display_name": "Python 3 (ipykernel)",
   "language": "python",
   "name": "python3"
  },
  "language_info": {
   "codemirror_mode": {
    "name": "ipython",
    "version": 3
   },
   "file_extension": ".py",
   "mimetype": "text/x-python",
   "name": "python",
   "nbconvert_exporter": "python",
   "pygments_lexer": "ipython3",
   "version": "3.11.5"
  }
 },
 "nbformat": 4,
 "nbformat_minor": 5
}
